{
 "cells": [
  {
   "cell_type": "markdown",
   "id": "82f2425f",
   "metadata": {},
   "source": [
    "### sqlite3 database"
   ]
  },
  {
   "cell_type": "code",
   "execution_count": 18,
   "id": "60f55a31",
   "metadata": {},
   "outputs": [],
   "source": [
    "import sqlite3"
   ]
  },
  {
   "cell_type": "code",
   "execution_count": 19,
   "id": "747b1eff",
   "metadata": {},
   "outputs": [],
   "source": [
    "connection = sqlite3.connect('test.db')\n",
    "cursor = connection.cursor()"
   ]
  },
  {
   "cell_type": "markdown",
   "id": "a9ff4964",
   "metadata": {},
   "source": [
    "## createa a table"
   ]
  },
  {
   "cell_type": "code",
   "execution_count": 20,
   "id": "aa092d04",
   "metadata": {},
   "outputs": [],
   "source": [
    "cursor.execute('''\n",
    "            CREATE TABLE IF NOT EXISTS Employees (\n",
    "                id integer PRIMARY KEY,\n",
    "                name text NOT NULL,\n",
    "                age integer,\n",
    "                department text NOT NULL\n",
    "            )\n",
    "''')\n",
    "\n",
    "# commit the changes\n",
    "connection.commit()"
   ]
  },
  {
   "cell_type": "code",
   "execution_count": null,
   "id": "c4392604",
   "metadata": {},
   "outputs": [],
   "source": [
    "## insert data into the table\n",
    "cursor.execute('''\n",
    "    INSERT INTO Employees (name, age, department) VALUES\n",
    "    ('Elon Musk', 52, 'Engineering'),\n",
    "    ('Bernard Arnault', 75, 'Management'),\n",
    "    ('Jeff Bezos', 61, 'Operations'),\n",
    "    ('Mark Zuckerberg', 40, 'Product'),\n",
    "    ('Larry Ellison', 80, 'Executive'),\n",
    "    ('Warren Buffett', 94, 'Finance'),\n",
    "    ('Bill Gates', 69, 'Research'),\n",
    "    ('Larry Page', 51, 'Technology'),\n",
    "    ('Sergey Brin', 51, 'Technology'),\n",
    "    ('Steve Ballmer', 68, 'Sales')\n",
    "''')\n",
    "connection.commit()"
   ]
  },
  {
   "cell_type": "code",
   "execution_count": 22,
   "id": "9e126eca",
   "metadata": {},
   "outputs": [
    {
     "name": "stdout",
     "output_type": "stream",
     "text": [
      "(1, 'Elon Musk', 52, 'Engineering')\n",
      "(2, 'Bernard Arnault', 75, 'Management')\n",
      "(3, 'Jeff Bezos', 61, 'Operations')\n",
      "(4, 'Mark Zuckerberg', 40, 'Product')\n",
      "(5, 'Larry Ellison', 80, 'Executive')\n",
      "(6, 'Warren Buffett', 94, 'Finance')\n",
      "(7, 'Bill Gates', 69, 'Research')\n",
      "(8, 'Larry Page', 51, 'Technology')\n",
      "(9, 'Sergey Brin', 51, 'Technology')\n",
      "(10, 'Steve Ballmer', 68, 'Sales')\n"
     ]
    }
   ],
   "source": [
    "## qury the data\n",
    "cursor.execute('SELECT * FROM Employees')\n",
    "row=cursor.fetchall()\n",
    "\n",
    "# print the data\n",
    "for r in row:\n",
    "    print(r)"
   ]
  },
  {
   "cell_type": "markdown",
   "id": "6ba5d83c",
   "metadata": {},
   "source": [
    "### update"
   ]
  },
  {
   "cell_type": "code",
   "execution_count": null,
   "id": "6cb86a72",
   "metadata": {},
   "outputs": [],
   "source": [
    "\n",
    "cursor.execute('''\n",
    "\tUPDATE Employees\n",
    "\tSET age = 34\n",
    "\tWHERE name = 'Mark Zuckerberg'\n",
    "\t''')\n",
    "connection.commit()\n"
   ]
  },
  {
   "cell_type": "code",
   "execution_count": 28,
   "id": "91d61b77",
   "metadata": {},
   "outputs": [
    {
     "name": "stdout",
     "output_type": "stream",
     "text": [
      "(1, 'Elon Musk', 52, 'Engineering')\n",
      "(2, 'Bernard Arnault', 75, 'Management')\n",
      "(3, 'Jeff Bezos', 61, 'Operations')\n",
      "(4, 'Mark Zuckerberg', 34, 'Product')\n",
      "(5, 'Larry Ellison', 80, 'Executive')\n",
      "(6, 'Warren Buffett', 94, 'Finance')\n",
      "(7, 'Bill Gates', 69, 'Research')\n",
      "(8, 'Larry Page', 51, 'Technology')\n",
      "(9, 'Sergey Brin', 51, 'Technology')\n"
     ]
    }
   ],
   "source": [
    "## qury the data\n",
    "cursor.execute('SELECT * FROM Employees')\n",
    "row=cursor.fetchall()\n",
    "\n",
    "# print the data\n",
    "for r in row:\n",
    "    print(r)"
   ]
  },
  {
   "cell_type": "markdown",
   "id": "f9a4bd09",
   "metadata": {},
   "source": [
    "### delete data from table"
   ]
  },
  {
   "cell_type": "code",
   "execution_count": 27,
   "id": "5be73293",
   "metadata": {},
   "outputs": [],
   "source": [
    "cursor.execute('''\n",
    "DELETE from employees\n",
    "where name = 'Steve Ballmer'\n",
    "''')\n",
    "\n",
    "connection.commit()"
   ]
  },
  {
   "cell_type": "code",
   "execution_count": null,
   "id": "6a4d45fd",
   "metadata": {},
   "outputs": [],
   "source": []
  }
 ],
 "metadata": {
  "kernelspec": {
   "display_name": "Python 3",
   "language": "python",
   "name": "python3"
  },
  "language_info": {
   "codemirror_mode": {
    "name": "ipython",
    "version": 3
   },
   "file_extension": ".py",
   "mimetype": "text/x-python",
   "name": "python",
   "nbconvert_exporter": "python",
   "pygments_lexer": "ipython3",
   "version": "3.13.5"
  }
 },
 "nbformat": 4,
 "nbformat_minor": 5
}
