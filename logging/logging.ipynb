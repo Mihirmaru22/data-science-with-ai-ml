{
 "cells": [
  {
   "cell_type": "code",
   "execution_count": 1,
   "id": "3299ba2c",
   "metadata": {},
   "outputs": [],
   "source": [
    "import logging"
   ]
  },
  {
   "cell_type": "markdown",
   "id": "2de4e5ea",
   "metadata": {},
   "source": [
    "### confige the basic login setting \n"
   ]
  },
  {
   "cell_type": "code",
   "execution_count": 2,
   "id": "dad1b8a3",
   "metadata": {},
   "outputs": [
    {
     "name": "stderr",
     "output_type": "stream",
     "text": [
      "DEBUG:root:this is the debug\n",
      "ERROR:root:this is error\n",
      "WARNING:root:this is the warning message\n",
      "INFO:root:this is the info message\n",
      "CRITICAL:root:this is the critical message\n"
     ]
    }
   ],
   "source": [
    "logging.basicConfig(level=logging.DEBUG)\n",
    "\n",
    "# log messages \n",
    "\n",
    "logging.debug('this is the debug')\n",
    "logging.error('this is error')\n",
    "logging.warning('this is the warning message')\n",
    "logging.info('this is the info message')\n",
    "logging.critical('this is the critical message')"
   ]
  },
  {
   "cell_type": "markdown",
   "id": "5e907965",
   "metadata": {},
   "source": [
    "### configing logging"
   ]
  },
  {
   "cell_type": "code",
   "execution_count": 1,
   "id": "5a8f14d0",
   "metadata": {},
   "outputs": [],
   "source": [
    "import logging\n",
    "\n",
    "logging.basicConfig(\n",
    "    filename='app.log',\n",
    "    filemode= 'w',\n",
    "    level=logging.DEBUG,\n",
    "    format='%(asctime)s-%(name)s-%(levelname)s-%(message)s',\n",
    "    datefmt='%Y-%M-%d %H:%M:%S'\n",
    ")\n",
    "\n",
    "# log messages \n",
    "\n",
    "logging.debug('this is the debug')\n",
    "logging.error('this is error')\n",
    "logging.warning('this is the warning message')\n",
    "logging.info('this is the info message')\n",
    "logging.critical('this is the critical message')\n",
    "\n"
   ]
  }
 ],
 "metadata": {
  "kernelspec": {
   "display_name": "Python 3",
   "language": "python",
   "name": "python3"
  },
  "language_info": {
   "codemirror_mode": {
    "name": "ipython",
    "version": 3
   },
   "file_extension": ".py",
   "mimetype": "text/x-python",
   "name": "python",
   "nbconvert_exporter": "python",
   "pygments_lexer": "ipython3",
   "version": "3.13.5"
  }
 },
 "nbformat": 4,
 "nbformat_minor": 5
}
