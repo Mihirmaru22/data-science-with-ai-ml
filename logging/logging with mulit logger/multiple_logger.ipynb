{
 "cells": [
  {
   "cell_type": "markdown",
   "id": "32498b72",
   "metadata": {},
   "source": [
    "### logging with multiple loggger"
   ]
  },
  {
   "cell_type": "code",
   "execution_count": 2,
   "id": "c12dedc1",
   "metadata": {},
   "outputs": [],
   "source": [
    "import logging\n",
    "\n",
    "# creating logging for module1\n",
    "logger1 = logging.getLogger('module1')\n",
    "logger1.setLevel(logging.DEBUG)\n",
    "\n",
    "# creating logging for module2\n",
    "logger2 = logging.getLogger('module2')\n",
    "logger2.setLevel(logging.WARNING)\n",
    "\n",
    "# logging config\n",
    "logging.basicConfig(\n",
    "    filename='app.log',\n",
    "    filemode= 'w',\n",
    "    level=logging.DEBUG,\n",
    "    format='%(asctime)s-%(name)s-%(levelname)s-%(message)s',\n",
    "    datefmt='%Y-%M-%d %H:%M:%S'\n",
    ")\n"
   ]
  },
  {
   "cell_type": "markdown",
   "id": "dcd45117",
   "metadata": {},
   "source": [
    "### log messages with diffrent loggers"
   ]
  },
  {
   "cell_type": "code",
   "execution_count": 3,
   "id": "681ef7eb",
   "metadata": {},
   "outputs": [],
   "source": [
    "logger1.debug('this is the debug message for module1')\n",
    "logger2.warning('this is the warning message for module2')\n",
    "logger2.error('this is an error message')"
   ]
  },
  {
   "cell_type": "code",
   "execution_count": null,
   "id": "07d4dc2c",
   "metadata": {},
   "outputs": [],
   "source": []
  }
 ],
 "metadata": {
  "kernelspec": {
   "display_name": "Python 3",
   "language": "python",
   "name": "python3"
  },
  "language_info": {
   "codemirror_mode": {
    "name": "ipython",
    "version": 3
   },
   "file_extension": ".py",
   "mimetype": "text/x-python",
   "name": "python",
   "nbconvert_exporter": "python",
   "pygments_lexer": "ipython3",
   "version": "3.13.5"
  }
 },
 "nbformat": 4,
 "nbformat_minor": 5
}
